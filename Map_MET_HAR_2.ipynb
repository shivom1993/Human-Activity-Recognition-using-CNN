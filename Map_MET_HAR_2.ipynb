{
  "cells": [
    {
      "cell_type": "markdown",
      "metadata": {
        "id": "view-in-github",
        "colab_type": "text"
      },
      "source": [
        "<a href=\"https://colab.research.google.com/github/shivom1993/Human-Activity-Recognition-using-CNN/blob/master/Map_MET_HAR_2.ipynb\" target=\"_parent\"><img src=\"https://colab.research.google.com/assets/colab-badge.svg\" alt=\"Open In Colab\"/></a>"
      ]
    },
    {
      "cell_type": "code",
      "source": [
        "import numpy as np\n",
        "import pandas as pd\n",
        "from sklearn.ensemble import RandomForestClassifier\n",
        "from sklearn.metrics import accuracy_score\n",
        "import pandas as pd\n",
        "from sklearn.preprocessing import StandardScaler\n",
        "from sklearn.model_selection import train_test_split\n",
        "from sklearn.metrics import accuracy_score\n",
        "import matplotlib.pyplot as plt\n",
        "\n",
        "# Load the dataset\n",
        "data = pd.read_csv(\"data.csv\")\n",
        "\n",
        "# Extract the features\n",
        "features = data.drop(\"activity\", axis=1)\n",
        "\n",
        "# Split the data into training and testing sets\n",
        "X_train, X_test, y_train, y_test = train_test_split(features, data[\"activity\"], test_size=0.25)\n",
        "\n",
        "# Train the model\n",
        "model = RandomForestClassifier(n_estimators=100)\n",
        "model.fit(X_train, y_train)\n",
        "\n",
        "# Predict the labels for the test set\n",
        "y_pred = model.predict(X_test)\n",
        "\n",
        "# Calculate the accuracy\n",
        "accuracy = accuracy_score(y_test, y_pred)\n",
        "print(\"Accuracy:\", accuracy)\n",
        "\n",
        "# Map the activities to their respective MET Values\n",
        "activities = [\"standing\", \"sitting\", \"walking\", \"jogging\", \"biking\", \"upstairs\", \"downstairs\"]\n",
        "MET_Values = [1.0, 1.2, 3.0, 6.0, 3.0, 5.0, 5.0]\n",
        "\n",
        "# Create a dictionary to map activities to MET Values\n",
        "activity_to_MET_Value = dict(zip(activities, MET_Values))\n",
        "\n",
        "# Print the activity-MET Value mapping\n",
        "print(activity_to_MET_Value)"
      ],
      "outputs": [
        {
          "output_type": "stream",
          "name": "stdout",
          "text": [
            "Accuracy: 0.9338412698412698\n",
            "{'standing': 1.0, 'sitting': 1.2, 'walking': 3.0, 'jogging': 6.0, 'biking': 3.0, 'upstairs': 5.0, 'downstairs': 5.0}\n"
          ]
        }
      ],
      "execution_count": 4,
      "metadata": {
        "colab": {
          "base_uri": "https://localhost:8080/"
        },
        "id": "hp1q3UwOpWUR",
        "outputId": "51a9b884-b63b-4705-cdc1-37b23000ad94"
      }
    },
    {
      "cell_type": "markdown",
      "source": [
        "This code will first load the dataset and extract the features. The data will then be split into training and testing sets. The model will then be trained on the training set and the labels will be predicted for the testing set. The accuracy of the model will then be calculated. Finally, the activities will be mapped to their respective MET Values.\n",
        "\n"
      ],
      "metadata": {
        "id": "k80DcBw9pWUa"
      }
    }
  ],
  "metadata": {
    "colab": {
      "provenance": [],
      "include_colab_link": true
    },
    "kernelspec": {
      "display_name": "Python 3",
      "name": "python3"
    }
  },
  "nbformat": 4,
  "nbformat_minor": 0
}